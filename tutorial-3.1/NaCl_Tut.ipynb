{
 "cells": [
  {
   "cell_type": "markdown",
   "id": "c1c96a90",
   "metadata": {},
   "source": [
    "# Tutorial 3.1. Creating \"Binless\" Resampling Schemes: Na<sup>+</sup>/Cl<sup>-</sup> Association Simulations\n",
    "Author: Jeremy Leung, Anthony Bogetti<br>\n",
    "Email:&nbsp;&nbsp; jml230@pitt.edu"
   ]
  },
  {
   "cell_type": "markdown",
   "id": "f0a929ff",
   "metadata": {},
   "source": [
    "## Introduction\n",
    "\n",
    "This document is a companion jupyter notebook for first tutorial in the WESTPA 2.0 Suite of Tutorials. It involves running a Na<sup>+</sup>/Cl<sup>-</sup> association simulation using WESTPA's new binless resampler module and other advanced techniques. Upon completion of this tutorial, a user should be able to customize their own binless scheme,  initiate WE simulations from multiple basis and start states, combine multiple independent WESTPA simulations for analysis, and calculate additional post-simulation dataset. This tutorial builds upon the basics explained in the Na<sup>+</sup>/Cl<sup>-</sup> tutorial of the original suite of tutorials on LiveCoMS ([Bogetti et al., 2019](https://www.livecomsjournal.org/index.php/livecoms/article/view/v1i2e10607)). This notebook is designed such that each cell is self-contained. Feel free to jump to the section of choice."
   ]
  },
  {
   "cell_type": "markdown",
   "id": "c8724bc7",
   "metadata": {},
   "source": [
    "## Learning Objectives\n",
    "- To create a binless scheme for splitting and merging trajectories based on k-means clustering using the BinlessMapper resampler module. groupsubgroup option of the resampler module;\n",
    "- To initiate a WE simulation from multiple starting conformations;\n",
    "- To combine multiple WE simulations for analysis using the <code>w_multi_west</code> tool;\n",
    "- To perform post-simulation analysis using the <code>w_crawl</code> tool.\n"
   ]
  },
  {
   "cell_type": "markdown",
   "id": "bf50a0c5",
   "metadata": {},
   "source": [
    "## System Requirements\n",
    "- OpenMM, Scikit-learn and MDTraj are necessary to run this simulation.\n",
    "    - Note that MDTraj is a dependency of WESTPA 2.0.\n",
    "- numpy, matplotlib, ipympyl, mdtraj, and nglview are used in this jupyter notebook. \n",
    "    - nglview, matplotlib, ipympl, and numpy are optional for visualization purposes."
   ]
  },
  {
   "cell_type": "markdown",
   "id": "2040b50b",
   "metadata": {},
   "source": [
    "## Running the Simulation"
   ]
  },
  {
   "cell_type": "markdown",
   "id": "afdaeaa7",
   "metadata": {},
   "source": [
    "The files to initialize and run the WESTPA simulation are included with this jupyter notebook for demonstration purposes. **It is <u>not</u> recommended that you run your WE simulations within a Jupyter Notebook.** The simulation will take a while to complete, so feel free to stop it at any stage. Sample completed files for analysis are provided in the `for_analysis/` directory and `w_crawl/` folder."
   ]
  },
  {
   "cell_type": "code",
   "execution_count": null,
   "id": "47706168",
   "metadata": {},
   "outputs": [],
   "source": [
    "import os\n",
    "import shutil\n",
    "# Clean up from previous/ failed simulations.\n",
    "for i in ['west.h5', 'seg_logs', 'traj_segs','istates','get_pcoord.log']:\n",
    "    try:\n",
    "        os.remove(i)\n",
    "    except OSError:\n",
    "        try:\n",
    "            shutil.rmtree(i)\n",
    "        except OSError:\n",
    "            pass\n",
    "        \n",
    "for i in ['seg_logs','traj_segs','istates']:\n",
    "    os.mkdir(i)"
   ]
  },
  {
   "cell_type": "code",
   "execution_count": null,
   "id": "34660779",
   "metadata": {
    "scrolled": true
   },
   "outputs": [],
   "source": [
    "import westpa\n",
    "import numpy\n",
    "from westpa.cli.core import w_init\n",
    "from argparse import Namespace\n",
    "\n",
    "# Initializing the System:\n",
    "# Set some parameters that WESTPA needs to set simulation state.\n",
    "args = Namespace(rcfile='west.cfg',\n",
    "                 verbosity='verbose', ## change to 'debug' if you want a more detailed view of what's happening\n",
    "                                      ## or 'verbose' for some information\n",
    "                                      ## or 'quiet' for no information at all. \n",
    "                 work_manager='threads')\n",
    "\n",
    "# Update westpa.rc with these\n",
    "westpa.rc.process_args(args)\n",
    "\n",
    "# Initialize the simulation using the tstate and bstate files\n",
    "w_init.initialize(tstates=None, bstates=None, \n",
    "                  tstate_file='tstate.file', bstate_file='bstates/bstates.txt', \n",
    "                  segs_per_state=5, shotgun=False)"
   ]
  },
  {
   "cell_type": "code",
   "execution_count": null,
   "id": "4950ffd7",
   "metadata": {
    "scrolled": true
   },
   "outputs": [],
   "source": [
    "import westpa\n",
    "import numpy\n",
    "from westpa.cli.core import w_run\n",
    "import westpa.work_managers as work_managers\n",
    "from argparse import Namespace\n",
    "\n",
    "# Running the Simulation.\n",
    "# Set some parameters that WESTPA needs to set simulation state.\n",
    "args = Namespace(rcfile = 'west.cfg',\n",
    "                 verbosity = \"verbose\",\n",
    "                 work_manager = 'threads')\n",
    "\n",
    "# Update westpa.rc with these\n",
    "westpa.rc.process_args(args)\n",
    "# Prepare work manager\n",
    "work_managers.environment.process_wm_args(args)\n",
    "\n",
    "# Launch the simulation\n",
    "w_run.run_simulation()"
   ]
  },
  {
   "cell_type": "markdown",
   "id": "326f5bd8",
   "metadata": {},
   "source": [
    "## Monitoring the WE Simulation"
   ]
  },
  {
   "cell_type": "markdown",
   "id": "82d2ae6a",
   "metadata": {},
   "source": [
    "The following sample code runs <code>w_pdist</code> and <code>plothist</code> to generate a probability distribution."
   ]
  },
  {
   "cell_type": "code",
   "execution_count": null,
   "id": "2755b014",
   "metadata": {
    "scrolled": true
   },
   "outputs": [],
   "source": [
    "import tarfile\n",
    "\n",
    "# Untar the files for analysis\n",
    "for file in ['./for_analysis/nacl.hdf5.h5.1.tar.gz']:\n",
    "    with tarfile.open(file) as tar_f:\n",
    "        tar_f.extractall('./for_analysis')"
   ]
  },
  {
   "cell_type": "code",
   "execution_count": null,
   "id": "059de79e",
   "metadata": {
    "scrolled": true
   },
   "outputs": [],
   "source": [
    "# Generate the pdist.h5\n",
    "!{'w_pdist -W ./for_analysis/01/west.h5'}"
   ]
  },
  {
   "cell_type": "code",
   "execution_count": 1,
   "id": "ba563630",
   "metadata": {
    "scrolled": false
   },
   "outputs": [
    {
     "name": "stdout",
     "output_type": "stream",
     "text": [
      "rm: cannot remove 'pdist.h5': No such file or directory\n",
      "-- DEBUG     2022-05-20 14:25:55,835 PID 18121        TID 140611665782592     \n",
      "   from logger \"westpa.rc\"\n",
      "   at location /home/jml230/git5/westpa/src/westpa/core/_rc.py:234 [process_config()]\n",
      "   ::\n",
      "   config: {'west': {'system': {'driver': 'westpa.core.systems.WESTSystem', 'system_options': {'pcoord_ndim': 1, 'pcoord_len': 51, 'pcoord_dtype': <class 'numpy.float32'>, 'bins': {'type': 'RecursiveBinMapper', 'base': {'type': 'RectilinearBinMapper', 'boundaries': [[0, 2.61, 'inf']]}, 'mappers': [{'type': 'BinlessMapper', 'ngroups': 5, 'ndims': 1, 'group_function': 'group.kmeans', 'at': [5]}]}, 'bin_target_counts': 5}}, 'propagation': {'max_total_iterations': 100, 'max_run_wallclock': 259200, 'propagator': 'executable', 'gen_istates': False}, 'data': {'west_data_file': 'west.h5', 'datasets': [{'name': 'pcoord', 'scaleoffset': 4}], 'data_refs': {'iteration': '$WEST_SIM_ROOT/traj_segs/iter_{n_iter:06d}.h5', 'segment': '$WEST_SIM_ROOT/traj_segs/{segment.n_iter:06d}/{segment.seg_id:06d}', 'basis_state': '$WEST_SIM_ROOT/bstates/{basis_state.auxref}', 'initial_state': '$WEST_SIM_ROOT/istates/{initial_state.iter_created}/{initial_state.state_id}'}}, 'plugins': None, 'executable': {'environ': {'PROPAGATION_DEBUG': 1}, 'propagator': {'executable': '$WEST_SIM_ROOT/westpa_scripts/runseg.sh', 'stdout': '$WEST_SIM_ROOT/seg_logs/{segment.n_iter:06d}-{segment.seg_id:06d}.log', 'stderr': 'stdout', 'stdin': None, 'cwd': None, 'environ': {'SEG_DEBUG': 1}}, 'get_pcoord': {'executable': '$WEST_SIM_ROOT/westpa_scripts/get_pcoord.sh', 'stdout': '$WEST_SIM_ROOT/get_pcoord.log', 'stderr': 'stdout'}, 'gen_istate': {'executable': '$WEST_SIM_ROOT/westpa_scripts/gen_istate.sh', 'stdout': '$WEST_SIM_ROOT/gen_istate.log', 'stderr': 'stdout'}, 'post_iteration': {'enabled': True, 'executable': '$WEST_SIM_ROOT/westpa_scripts/post_iter.sh', 'stderr': 'stdout'}, 'pre_iteration': {'enabled': False, 'executable': '$WEST_SIM_ROOT/westpa_scripts/pre_iter.sh', 'stderr': 'stdout'}}, 'analysis': {'directory': 'ANALYSIS', 'kinetics': {'step_iter': 1, 'evolution': 'cumulative', 'extra': ['disable-correl']}, 'analysis_schemes': {'TEST': {'enabled': True, 'bins': [{'type': 'RectilinearBinMapper', 'boundaries': [[0.0, 2.6, 12.0, 'inf']]}], 'states': [{'label': 'bound', 'coords': [[0]]}, {'label': 'unbound', 'coords': [[12.1]]}]}}}}, 'args': {'rcfile': 'west.cfg', 'verbosity': 'debug', 'work_manager': 'processes'}}\n",
      "\n",
      "-- DEBUG     2022-05-20 14:25:55,836 PID 18121        TID 140611665782592     \n",
      "   from logger \"westpa.rc\"\n",
      "   at location /home/jml230/git5/westpa/src/westpa/core/_rc.py:377 [new_data_manager()]\n",
      "   ::\n",
      "   loaded data manager: <westpa.core.data_manager.WESTDataManager object at 0x7fe28294d430>\n",
      "\n",
      "-- DEBUG     2022-05-20 14:25:55,838 PID 18121        TID 140611665782592     \n",
      "   from logger \"westpa.core.data_manager\"\n",
      "   at location /home/jml230/git5/westpa/src/westpa/core/data_manager.py:349 [open_backing()]\n",
      "   ::\n",
      "   attempting to open ./for_analysis/01/west.h5 with mode r\n",
      "\n",
      "-- DEBUG     2022-05-20 14:25:55,843 PID 18121        TID 140611665782592     \n",
      "   from logger \"westpa.core.data_manager\"\n",
      "   at location /home/jml230/git5/westpa/src/westpa/core/data_manager.py:370 [open_backing()]\n",
      "   ::\n",
      "   opened WEST HDF5 file version 8\n",
      "\n",
      "-- DEBUG     2022-05-20 14:25:55,848 PID 18121        TID 140611665782592     \n",
      "   from logger \"westpa.core.data_manager\"\n",
      "   at location /home/jml230/git5/westpa/src/westpa/core/data_manager.py:349 [open_backing()]\n",
      "   ::\n",
      "   attempting to open ./for_analysis/01/west.h5 with mode r\n",
      "\n",
      "-- DEBUG     2022-05-20 14:25:55,852 PID 18121        TID 140611665782592     \n",
      "   from logger \"westpa.core.data_manager\"\n",
      "   at location /home/jml230/git5/westpa/src/westpa/core/data_manager.py:370 [open_backing()]\n",
      "   ::\n",
      "   opened WEST HDF5 file version 8\n",
      "\n",
      "Initializing...\n",
      "Scanning for data range...\n",
      "-- DEBUG     2022-05-20 14:25:55,881 PID 18121        TID 140611665782592     \n",
      "   from logger \"westpa.work_managers.processes\"\n",
      "   at location /home/jml230/git5/westpa/src/westpa/work_managers/processes.py:90 [submit()]\n",
      "   ::\n",
      "   dispatching <function _remote_min_max at 0x7fe28293d550>\n",
      "\n"
     ]
    },
    {
     "ename": "TypeError",
     "evalue": "'NoneType' object does not support item assignment",
     "output_type": "error",
     "traceback": [
      "\u001b[0;31m---------------------------------------------------------------------------\u001b[0m",
      "\u001b[0;31mTypeError\u001b[0m                                 Traceback (most recent call last)",
      "Input \u001b[0;32mIn [1]\u001b[0m, in \u001b[0;36m<cell line: 35>\u001b[0;34m()\u001b[0m\n\u001b[1;32m     33\u001b[0m westpa\u001b[38;5;241m.\u001b[39mrc\u001b[38;5;241m.\u001b[39mwork_manager \u001b[38;5;241m=\u001b[39m work_manager \u001b[38;5;241m=\u001b[39m make_work_manager()\n\u001b[1;32m     34\u001b[0m w\u001b[38;5;241m.\u001b[39mwork_manager \u001b[38;5;241m=\u001b[39m westpa\u001b[38;5;241m.\u001b[39mrc\u001b[38;5;241m.\u001b[39mwork_manager\n\u001b[0;32m---> 35\u001b[0m \u001b[43mw\u001b[49m\u001b[38;5;241;43m.\u001b[39;49m\u001b[43mgo\u001b[49m\u001b[43m(\u001b[49m\u001b[43m)\u001b[49m\n",
      "File \u001b[0;32m~/git5/westpa/src/westpa/cli/tools/w_pdist.py:303\u001b[0m, in \u001b[0;36mWPDist.go\u001b[0;34m(self)\u001b[0m\n\u001b[1;32m    300\u001b[0m \u001b[38;5;28mself\u001b[39m\u001b[38;5;241m.\u001b[39miter_stop \u001b[38;5;241m=\u001b[39m \u001b[38;5;28mself\u001b[39m\u001b[38;5;241m.\u001b[39miter_range\u001b[38;5;241m.\u001b[39miter_stop\n\u001b[1;32m    302\u001b[0m \u001b[38;5;66;03m# Construct bin boundaries\u001b[39;00m\n\u001b[0;32m--> 303\u001b[0m \u001b[38;5;28;43mself\u001b[39;49m\u001b[38;5;241;43m.\u001b[39;49m\u001b[43mconstruct_bins\u001b[49m\u001b[43m(\u001b[49m\u001b[38;5;28;43mself\u001b[39;49m\u001b[38;5;241;43m.\u001b[39;49m\u001b[43mparse_binspec\u001b[49m\u001b[43m(\u001b[49m\u001b[38;5;28;43mself\u001b[39;49m\u001b[38;5;241;43m.\u001b[39;49m\u001b[43mbinspec\u001b[49m\u001b[43m)\u001b[49m\u001b[43m)\u001b[49m\n\u001b[1;32m    304\u001b[0m \u001b[38;5;28;01mfor\u001b[39;00m idim, (binbounds, midpoints) \u001b[38;5;129;01min\u001b[39;00m \u001b[38;5;28menumerate\u001b[39m(\u001b[38;5;28mzip\u001b[39m(\u001b[38;5;28mself\u001b[39m\u001b[38;5;241m.\u001b[39mbinbounds, \u001b[38;5;28mself\u001b[39m\u001b[38;5;241m.\u001b[39mmidpoints)):\n\u001b[1;32m    305\u001b[0m     \u001b[38;5;28mself\u001b[39m\u001b[38;5;241m.\u001b[39moutput_file[\u001b[38;5;124m'\u001b[39m\u001b[38;5;124mbinbounds_\u001b[39m\u001b[38;5;132;01m{}\u001b[39;00m\u001b[38;5;124m'\u001b[39m\u001b[38;5;241m.\u001b[39mformat(idim)] \u001b[38;5;241m=\u001b[39m binbounds\n",
      "File \u001b[0;32m~/git5/westpa/src/westpa/cli/tools/w_pdist.py:344\u001b[0m, in \u001b[0;36mWPDist.construct_bins\u001b[0;34m(self, bins)\u001b[0m\n\u001b[1;32m    332\u001b[0m \u001b[38;5;124;03m'''\u001b[39;00m\n\u001b[1;32m    333\u001b[0m \u001b[38;5;124;03mConstruct bins according to ``bins``, which may be:\u001b[39;00m\n\u001b[1;32m    334\u001b[0m \n\u001b[0;32m   (...)\u001b[0m\n\u001b[1;32m    340\u001b[0m \u001b[38;5;124;03mfasthist.histnd, along with ``self.midpoints`` to the midpoints of the bins.\u001b[39;00m\n\u001b[1;32m    341\u001b[0m \u001b[38;5;124;03m'''\u001b[39;00m\n\u001b[1;32m    343\u001b[0m \u001b[38;5;28;01mif\u001b[39;00m \u001b[38;5;129;01mnot\u001b[39;00m isiterable(bins):\n\u001b[0;32m--> 344\u001b[0m     \u001b[38;5;28;43mself\u001b[39;49m\u001b[38;5;241;43m.\u001b[39;49m\u001b[43m_construct_bins_from_scalar\u001b[49m\u001b[43m(\u001b[49m\u001b[43mbins\u001b[49m\u001b[43m)\u001b[49m\n\u001b[1;32m    345\u001b[0m \u001b[38;5;28;01melif\u001b[39;00m \u001b[38;5;129;01mnot\u001b[39;00m isiterable(bins[\u001b[38;5;241m0\u001b[39m]):\n\u001b[1;32m    346\u001b[0m     \u001b[38;5;28mself\u001b[39m\u001b[38;5;241m.\u001b[39m_construct_bins_from_int_seq(bins)\n",
      "File \u001b[0;32m~/git5/westpa/src/westpa/cli/tools/w_pdist.py:400\u001b[0m, in \u001b[0;36mWPDist._construct_bins_from_scalar\u001b[0;34m(self, bins)\u001b[0m\n\u001b[1;32m    398\u001b[0m \u001b[38;5;28;01mdef\u001b[39;00m \u001b[38;5;21m_construct_bins_from_scalar\u001b[39m(\u001b[38;5;28mself\u001b[39m, bins):\n\u001b[1;32m    399\u001b[0m     \u001b[38;5;28;01mif\u001b[39;00m \u001b[38;5;28mself\u001b[39m\u001b[38;5;241m.\u001b[39mdata_range \u001b[38;5;129;01mis\u001b[39;00m \u001b[38;5;28;01mNone\u001b[39;00m:\n\u001b[0;32m--> 400\u001b[0m         \u001b[38;5;28;43mself\u001b[39;49m\u001b[38;5;241;43m.\u001b[39;49m\u001b[43mscan_data_range\u001b[49m\u001b[43m(\u001b[49m\u001b[43m)\u001b[49m\n\u001b[1;32m    402\u001b[0m     \u001b[38;5;28mself\u001b[39m\u001b[38;5;241m.\u001b[39mbinbounds \u001b[38;5;241m=\u001b[39m []\n\u001b[1;32m    403\u001b[0m     \u001b[38;5;28mself\u001b[39m\u001b[38;5;241m.\u001b[39mmidpoints \u001b[38;5;241m=\u001b[39m []\n",
      "File \u001b[0;32m~/git5/westpa/src/westpa/cli/tools/w_pdist.py:386\u001b[0m, in \u001b[0;36mWPDist.scan_data_range\u001b[0;34m(self)\u001b[0m\n\u001b[1;32m    378\u001b[0m data_range \u001b[38;5;241m=\u001b[39m \u001b[38;5;28mself\u001b[39m\u001b[38;5;241m.\u001b[39mdata_range \u001b[38;5;241m=\u001b[39m [(maxval, minval) \u001b[38;5;28;01mfor\u001b[39;00m _i \u001b[38;5;129;01min\u001b[39;00m \u001b[38;5;28mrange\u001b[39m(\u001b[38;5;28mself\u001b[39m\u001b[38;5;241m.\u001b[39mndim)]\n\u001b[1;32m    380\u001b[0m \u001b[38;5;66;03m# futures = []\u001b[39;00m\n\u001b[1;32m    381\u001b[0m \u001b[38;5;66;03m# for n_iter in xrange(self.iter_start, self.iter_stop):\u001b[39;00m\n\u001b[1;32m    382\u001b[0m \u001b[38;5;66;03m# _remote_min_max(ndim, dset_dtype, n_iter, dsspec)\u001b[39;00m\n\u001b[1;32m    383\u001b[0m \u001b[38;5;66;03m#    futures.append(self.work_manager.submit(_remote_min_max, args=(ndim, dset_dtype, n_iter, dsspec)))\u001b[39;00m\n\u001b[1;32m    384\u001b[0m \n\u001b[1;32m    385\u001b[0m \u001b[38;5;66;03m# for future in self.work_manager.as_completed(futures):\u001b[39;00m\n\u001b[0;32m--> 386\u001b[0m \u001b[38;5;28;01mfor\u001b[39;00m future \u001b[38;5;129;01min\u001b[39;00m \u001b[38;5;28mself\u001b[39m\u001b[38;5;241m.\u001b[39mwork_manager\u001b[38;5;241m.\u001b[39msubmit_as_completed(\n\u001b[1;32m    387\u001b[0m     ((_remote_min_max, (ndim, dset_dtype, n_iter, dsspec), {}) \u001b[38;5;28;01mfor\u001b[39;00m n_iter \u001b[38;5;129;01min\u001b[39;00m \u001b[38;5;28mrange\u001b[39m(\u001b[38;5;28mself\u001b[39m\u001b[38;5;241m.\u001b[39miter_start, \u001b[38;5;28mself\u001b[39m\u001b[38;5;241m.\u001b[39miter_stop)),\n\u001b[1;32m    388\u001b[0m     \u001b[38;5;28mself\u001b[39m\u001b[38;5;241m.\u001b[39mmax_queue_len,\n\u001b[1;32m    389\u001b[0m ):\n\u001b[1;32m    390\u001b[0m     bounds \u001b[38;5;241m=\u001b[39m future\u001b[38;5;241m.\u001b[39mget_result(discard\u001b[38;5;241m=\u001b[39m\u001b[38;5;28;01mTrue\u001b[39;00m)\n\u001b[1;32m    391\u001b[0m     \u001b[38;5;28;01mfor\u001b[39;00m idim \u001b[38;5;129;01min\u001b[39;00m \u001b[38;5;28mrange\u001b[39m(ndim):\n",
      "File \u001b[0;32m~/git5/westpa/src/westpa/work_managers/core.py:122\u001b[0m, in \u001b[0;36mWorkManager.submit_as_completed\u001b[0;34m(self, task_generator, queue_size)\u001b[0m\n\u001b[1;32m    115\u001b[0m \u001b[38;5;28;01mdef\u001b[39;00m \u001b[38;5;21msubmit_as_completed\u001b[39m(\u001b[38;5;28mself\u001b[39m, task_generator, queue_size\u001b[38;5;241m=\u001b[39m\u001b[38;5;28;01mNone\u001b[39;00m):\n\u001b[1;32m    116\u001b[0m     \u001b[38;5;124;03m'''Return a generator which yields results from a set of ``futures`` as they become\u001b[39;00m\n\u001b[1;32m    117\u001b[0m \u001b[38;5;124;03m    available. Futures are generated by the ``task_generator``, which must return a triple of the form\u001b[39;00m\n\u001b[1;32m    118\u001b[0m \u001b[38;5;124;03m    expected by ``submit``. The method also accepts an int ``queue_size`` that dictates the\u001b[39;00m\n\u001b[1;32m    119\u001b[0m \u001b[38;5;124;03m    maximum number of Futures that should be pending at any given time. The default value of\u001b[39;00m\n\u001b[1;32m    120\u001b[0m \u001b[38;5;124;03m    ``None`` submits all of the tasks at once.'''\u001b[39;00m\n\u001b[0;32m--> 122\u001b[0m     futures \u001b[38;5;241m=\u001b[39m [\u001b[38;5;28mself\u001b[39m\u001b[38;5;241m.\u001b[39msubmit(fn, args, kwargs) \u001b[38;5;28;01mfor\u001b[39;00m (fn, args, kwargs) \u001b[38;5;129;01min\u001b[39;00m islice(task_generator, queue_size)]\n\u001b[1;32m    123\u001b[0m     pending \u001b[38;5;241m=\u001b[39m \u001b[38;5;28mset\u001b[39m(futures)\n\u001b[1;32m    125\u001b[0m     \u001b[38;5;28;01mwith\u001b[39;00m WMFuture\u001b[38;5;241m.\u001b[39mall_acquired(pending):\n",
      "File \u001b[0;32m~/git5/westpa/src/westpa/work_managers/core.py:122\u001b[0m, in \u001b[0;36m<listcomp>\u001b[0;34m(.0)\u001b[0m\n\u001b[1;32m    115\u001b[0m \u001b[38;5;28;01mdef\u001b[39;00m \u001b[38;5;21msubmit_as_completed\u001b[39m(\u001b[38;5;28mself\u001b[39m, task_generator, queue_size\u001b[38;5;241m=\u001b[39m\u001b[38;5;28;01mNone\u001b[39;00m):\n\u001b[1;32m    116\u001b[0m     \u001b[38;5;124;03m'''Return a generator which yields results from a set of ``futures`` as they become\u001b[39;00m\n\u001b[1;32m    117\u001b[0m \u001b[38;5;124;03m    available. Futures are generated by the ``task_generator``, which must return a triple of the form\u001b[39;00m\n\u001b[1;32m    118\u001b[0m \u001b[38;5;124;03m    expected by ``submit``. The method also accepts an int ``queue_size`` that dictates the\u001b[39;00m\n\u001b[1;32m    119\u001b[0m \u001b[38;5;124;03m    maximum number of Futures that should be pending at any given time. The default value of\u001b[39;00m\n\u001b[1;32m    120\u001b[0m \u001b[38;5;124;03m    ``None`` submits all of the tasks at once.'''\u001b[39;00m\n\u001b[0;32m--> 122\u001b[0m     futures \u001b[38;5;241m=\u001b[39m [\u001b[38;5;28;43mself\u001b[39;49m\u001b[38;5;241;43m.\u001b[39;49m\u001b[43msubmit\u001b[49m\u001b[43m(\u001b[49m\u001b[43mfn\u001b[49m\u001b[43m,\u001b[49m\u001b[43m \u001b[49m\u001b[43margs\u001b[49m\u001b[43m,\u001b[49m\u001b[43m \u001b[49m\u001b[43mkwargs\u001b[49m\u001b[43m)\u001b[49m \u001b[38;5;28;01mfor\u001b[39;00m (fn, args, kwargs) \u001b[38;5;129;01min\u001b[39;00m islice(task_generator, queue_size)]\n\u001b[1;32m    123\u001b[0m     pending \u001b[38;5;241m=\u001b[39m \u001b[38;5;28mset\u001b[39m(futures)\n\u001b[1;32m    125\u001b[0m     \u001b[38;5;28;01mwith\u001b[39;00m WMFuture\u001b[38;5;241m.\u001b[39mall_acquired(pending):\n",
      "File \u001b[0;32m~/git5/westpa/src/westpa/work_managers/processes.py:91\u001b[0m, in \u001b[0;36mProcessWorkManager.submit\u001b[0;34m(self, fn, args, kwargs)\u001b[0m\n\u001b[1;32m     89\u001b[0m ft \u001b[38;5;241m=\u001b[39m WMFuture()\n\u001b[1;32m     90\u001b[0m log\u001b[38;5;241m.\u001b[39mdebug(\u001b[38;5;124m'\u001b[39m\u001b[38;5;124mdispatching \u001b[39m\u001b[38;5;132;01m{!r}\u001b[39;00m\u001b[38;5;124m'\u001b[39m\u001b[38;5;241m.\u001b[39mformat(fn))\n\u001b[0;32m---> 91\u001b[0m \u001b[38;5;28mself\u001b[39m\u001b[38;5;241m.\u001b[39mpending[ft\u001b[38;5;241m.\u001b[39mtask_id] \u001b[38;5;241m=\u001b[39m ft\n\u001b[1;32m     92\u001b[0m \u001b[38;5;28mself\u001b[39m\u001b[38;5;241m.\u001b[39mtask_queue\u001b[38;5;241m.\u001b[39mput((\u001b[38;5;124m'\u001b[39m\u001b[38;5;124mtask\u001b[39m\u001b[38;5;124m'\u001b[39m, ft\u001b[38;5;241m.\u001b[39mtask_id, fn, args \u001b[38;5;129;01mor\u001b[39;00m (), kwargs \u001b[38;5;129;01mor\u001b[39;00m {}))\n\u001b[1;32m     93\u001b[0m \u001b[38;5;28;01mreturn\u001b[39;00m ft\n",
      "\u001b[0;31mTypeError\u001b[0m: 'NoneType' object does not support item assignment"
     ]
    }
   ],
   "source": [
    "## WORK IN PROGRESS DOESN'T WORK\n",
    "# Generate the pdist.h5\n",
    "from westpa.cli.tools import w_pdist\n",
    "from argparse import Namespace\n",
    "from westpa.work_managers import make_work_manager\n",
    "import westpa.work_managers as work_managers\n",
    "import westpa\n",
    "\n",
    "!{'rm pdist.h5'}\n",
    "# Update westpa.rc with these\n",
    "rc_args = Namespace(rcfile='west.cfg',\n",
    "                 verbosity='debug',\n",
    "                 work_manager='processes',)\n",
    "westpa.rc.process_args(rc_args)\n",
    "\n",
    "w = w_pdist.WPDist()\n",
    "args = Namespace(we_h5filename='./for_analysis/01/west.h5',\n",
    "                 rcfile='west.cfg',\n",
    "                 verbosity='debug',\n",
    "                 work_manager=None,\n",
    "                 max_queue_length=None,\n",
    "                 construct_dataset=None,\n",
    "                 dsspecs=None,\n",
    "                 first_iter=1,\n",
    "                 last_iter=None,\n",
    "                 bins='100',\n",
    "                 output='pdist.h5',\n",
    "                 ignore_out_of_range=False,\n",
    "                 compress=False,\n",
    "                )\n",
    "\n",
    "\n",
    "w.process_args(args)\n",
    "westpa.rc.work_manager = work_manager = make_work_manager()\n",
    "w.work_manager = westpa.rc.work_manager\n",
    "w.go()"
   ]
  },
  {
   "cell_type": "code",
   "execution_count": null,
   "id": "10808253",
   "metadata": {},
   "outputs": [],
   "source": [
    "%tb"
   ]
  },
  {
   "cell_type": "code",
   "execution_count": null,
   "id": "416d87c1",
   "metadata": {},
   "outputs": [],
   "source": [
    "# Generate the average hist.pdf\n",
    "!{'plothist evolution -o evol.pdf pdist.h5'}"
   ]
  },
  {
   "cell_type": "code",
   "execution_count": null,
   "id": "4c619d8e",
   "metadata": {},
   "outputs": [],
   "source": [
    "# View the average probability distribution\n",
    "from IPython.display import IFrame, display\n",
    "filepath = \"evol.pdf\"\n",
    "IFrame(filepath, width=700, height=400)"
   ]
  },
  {
   "cell_type": "code",
   "execution_count": null,
   "id": "0c7713a2",
   "metadata": {},
   "outputs": [],
   "source": [
    "# Generate the average hist.pdf\n",
    "!{'plothist average -o avg.pdf pdist.h5 0'}"
   ]
  },
  {
   "cell_type": "code",
   "execution_count": null,
   "id": "5f035a90",
   "metadata": {},
   "outputs": [],
   "source": [
    "# View the average probability distribution\n",
    "from IPython.display import IFrame, display\n",
    "filepath = \"avg.pdf\"\n",
    "IFrame(filepath, width=700, height=400)"
   ]
  },
  {
   "cell_type": "markdown",
   "id": "38662555",
   "metadata": {},
   "source": [
    "## Analyzing the WE Simulation"
   ]
  },
  {
   "cell_type": "markdown",
   "id": "24abecae",
   "metadata": {},
   "source": [
    "### Visualization of the System"
   ]
  },
  {
   "cell_type": "markdown",
   "id": "98fe3e75",
   "metadata": {},
   "source": [
    "We will now take a look at how one of the basis states looks like. The water box is omitted for visibility. Na<sup>+</sup> is red and Cl<sup>-</sup> is blue in the representation."
   ]
  },
  {
   "cell_type": "code",
   "execution_count": null,
   "id": "cc8af4db",
   "metadata": {
    "scrolled": true
   },
   "outputs": [],
   "source": [
    "import mdtraj\n",
    "import nglview\n",
    "system = mdtraj.load('bstates/01/basis.xml', top='common_files/bstate.pdb')\n",
    "Na = list(range(0,1)) # Na+ is the first atom\n",
    "Cl = list(range(1,2)) # Cl- is the second atom\n",
    "both = Na + Cl # Na+ + Cl-\n",
    "system = system.atom_slice(both)\n",
    "view = nglview.show_mdtraj(system)\n",
    "view.representations = [\n",
    "    {\"type\": \"ball+stick\", \"params\": {\n",
    "        \"sele\": \".Na+\", \"color\": \"red\"\n",
    "    }},\n",
    "    {\"type\": \"ball+stick\", \"params\": {\n",
    "        \"sele\": \".Cl-\", \"color\": \"blue\"\n",
    "    }}\n",
    "]\n",
    "view.background = 'white'\n",
    "view"
   ]
  },
  {
   "cell_type": "markdown",
   "id": "d35f3e48",
   "metadata": {},
   "source": [
    "### Visualization of Coverage of the Start States"
   ]
  },
  {
   "cell_type": "markdown",
   "id": "07278179",
   "metadata": {},
   "source": [
    "The following cells plots the multiple start states in a way that allows us to examine  their spacial coverage. The first cell visualizes the system one-by-one after alignment to Na<sup>+</sup>. The second cell plots all the center-of-masses at once. In some frames, Cl<sup>-</sup> might not be visible unless you move the camera.\n",
    "\n",
    "Do note that many lines are not necessary for Na<sup>+</sup>/Cl</sup>-</sup> as it is spherically symmetrical, and that its center of mass is equal to its coordinate. Extra code is provided so it could be generalized to larger systems."
   ]
  },
  {
   "cell_type": "code",
   "execution_count": null,
   "id": "6bd51296",
   "metadata": {},
   "outputs": [],
   "source": [
    "import numpy\n",
    "import mdtraj\n",
    "import nglview\n",
    "lst = numpy.loadtxt('bstates/bstates.txt', usecols=2, dtype=str) # Reading basis state names\n",
    "tpg = 'common_files/bstate.pdb' # Topology File for basis state (Shared between all bstates)\n",
    "lst = [x + \"/basis.xml\" for x in lst] # Change path to point to file name\n",
    "\n",
    "# Reading reference and setup\n",
    "# There might be some warnings about unconverged rotation matrices because of the system's rotational symmetry\n",
    "\n",
    "com = [] # list containing all CoM\n",
    "a = mdtraj.load('bstates/01/basis.xml', top=tpg) # Load the first\n",
    "a_slice = a.atom_slice([0,1]) # Just Na+\n",
    "com.append(numpy.squeeze(mdtraj.compute_center_of_mass(a_slice))) # Save CoM of Na+\n",
    "a_slice = a.atom_slice([0,1]) # Both Na+/Cl-\n",
    "\n",
    "# Loading and superposing, storing Center of Mass (CoM) to list for heatmap\n",
    "c = a_slice\n",
    "for i in lst:\n",
    "    b = mdtraj.load('bstates/' + i, top=tpg)\n",
    "    b = b.atom_slice([0,1])\n",
    "    b.superpose(a_slice, atom_indices=[0])\n",
    "    c = mdtraj.join([c,b], check_topology=False)\n",
    "    # Just saving the CoM of Cl-, since Na+ is superimposed\n",
    "    com.append(numpy.squeeze(mdtraj.compute_center_of_mass(b.atom_slice([1]))))\n",
    "com = numpy.asarray(com)\n",
    "\n",
    "# Now displaying it, note that Cl- is not visible in some frames unless you rotate the camera\n",
    "view2 = nglview.show_mdtraj(c)\n",
    "view2.representations = [\n",
    "    {\"type\": \"ball+stick\", \"params\": {\n",
    "        \"sele\": \".Na+\", \"color\": \"red\"\n",
    "    }},\n",
    "    {\"type\": \"ball+stick\", \"params\": {\n",
    "        \"sele\": \".Cl-\", \"color\": \"blue\"\n",
    "    }}\n",
    "]\n",
    "view2.center('.Na+')\n",
    "view2.control.zoom(-1.75)\n",
    "view2"
   ]
  },
  {
   "cell_type": "code",
   "execution_count": null,
   "id": "9458604b",
   "metadata": {
    "scrolled": false
   },
   "outputs": [],
   "source": [
    "# Looking at the coverage of the sstates, assuming you ran the previous cell\n",
    "# Comment out the next line or install ipypml if you have trouble viewing.\n",
    "%matplotlib widget \n",
    "import matplotlib\n",
    "from mpl_toolkits.mplot3d import Axes3D\n",
    "from pylab import *\n",
    "import numpy\n",
    "\n",
    "fig = matplotlib.pyplot.figure(figsize=(7,7))\n",
    "ax = fig.add_subplot(111, projection='3d')\n",
    "\n",
    "img1 = ax.scatter(com[0,0], com[0,1], com[0,2], s=20, marker='s', color='Red', label='Na+')\n",
    "img2 = ax.scatter(com[1:,0], com[1:,1], com[1:,2], s=50, marker='.', color='Blue', label='Cl-')\n",
    "\n",
    "# Labels and Titles\n",
    "ax.set_title(\"Basis State Structures Coverage\")\n",
    "ax.set_xlabel('x-axis')\n",
    "ax.set_ylabel('y-axis')\n",
    "ax.set_zlabel('z-axis')\n",
    "ax.legend()\n",
    "\n",
    "show()"
   ]
  },
  {
   "cell_type": "markdown",
   "id": "335833b8",
   "metadata": {},
   "source": [
    "Due to the rotational symmetry, it might be better to look at the Na<sup>+</sup>/Cl<sup>-</sup> atom-to-atom distances instead, which are already precalculated in each pcoord.init file."
   ]
  },
  {
   "cell_type": "code",
   "execution_count": null,
   "id": "42216ec4",
   "metadata": {
    "scrolled": false
   },
   "outputs": [],
   "source": [
    "import numpy\n",
    "import matplotlib\n",
    "import matplotlib.pyplot as plt\n",
    "lst = numpy.loadtxt('bstates/bstates.txt', usecols=2, dtype=str) # Reading basis state names\n",
    "lst2 = [\"bstates/\" + x + \"/pcoord.init\" for x in lst] # Change path to point to file name\n",
    "\n",
    "values = numpy.asarray([numpy.loadtxt(x) for x in lst2])\n",
    "\n",
    "fig2 = matplotlib.pyplot.figure(figsize=(7,7))\n",
    "ax2 = fig2.subplots()\n",
    "\n",
    "img3 = ax2.scatter(0, 0, color='Red', label='Na+')\n",
    "img4 = ax2.scatter(values[:], numpy.zeros(values.shape[0]), color='Blue', label='Cl-')\n",
    "img5 = ax2.axvline(x=2.6, ymin=0, ymax=1, label='Bound State', linestyle='--')\n",
    "\n",
    "# Labels and Titles\n",
    "ax2.set_title(\"Basis States Structures Coverage (Atom-to-Atom Distances)\")\n",
    "ax2.set_xlabel('Na+ to Cl- distance ($\\mathrm{\\AA}$)')\n",
    "ax2.set_ylabel('y-axis')\n",
    "ax2.legend()\n",
    "plt.xlim(-1,23)\n",
    "\n",
    "plt.show()"
   ]
  },
  {
   "cell_type": "markdown",
   "id": "2e85ee3d",
   "metadata": {},
   "source": [
    "### Calculating Rates"
   ]
  },
  {
   "cell_type": "code",
   "execution_count": null,
   "id": "2e57bf3d",
   "metadata": {},
   "outputs": [],
   "source": [
    "import tarfile\n",
    "from os import symlink\n",
    "\n",
    "# Untar the files for analysis.\n",
    "for file in ['./for_analysis/nacl.hdf5.h5.1.tar.gz']:\n",
    "    with tarfile.open(file) as tar_f:\n",
    "        tar_f.extractall('./for_analysis')\n",
    "try:\n",
    "    symlink('./for_analysis/01/west.h5', './west.h5')\n",
    "except FileExistsError:\n",
    "    print('A different west.h5 exists in the basic_nacl/. Either delete it or rename it to continue.')"
   ]
  },
  {
   "cell_type": "code",
   "execution_count": null,
   "id": "7995fc8f",
   "metadata": {},
   "outputs": [],
   "source": [
    "from westpa.cli.tools import w_ipa\n",
    "import westpa\n",
    "\n",
    "w = w_ipa.WIPI()\n",
    "w.main()\n",
    "w.interface = 'matplotlib'"
   ]
  },
  {
   "cell_type": "markdown",
   "id": "6dad5346",
   "metadata": {},
   "source": [
    "## Managing Your Simulations"
   ]
  },
  {
   "cell_type": "markdown",
   "id": "8cbf7a96",
   "metadata": {},
   "source": [
    "### Combining Multiple Simulation Runs"
   ]
  },
  {
   "cell_type": "markdown",
   "id": "2fba0809",
   "metadata": {},
   "source": [
    "The following sample code runs <code>w_multi_west</code> to concatenate two runs."
   ]
  },
  {
   "cell_type": "code",
   "execution_count": null,
   "id": "4f493ed0",
   "metadata": {
    "scrolled": true
   },
   "outputs": [],
   "source": [
    "import tarfile\n",
    "\n",
    "# Untar the files\n",
    "for file in ['./for_analysis/nacl.hdf5.h5.1.tar.gz','./for_analysis/nacl.hdf5.h5.2.tar.gz']:\n",
    "    with tarfile.open(file) as tar_f:\n",
    "        tar_f.extractall('./for_analysis')"
   ]
  },
  {
   "cell_type": "code",
   "execution_count": null,
   "id": "c314a692",
   "metadata": {
    "scrolled": true
   },
   "outputs": [],
   "source": [
    "# Run w_multi_west in the commandline\n",
    "!{'w_multi_west -m ./for_analysis/ -n 2'}\n",
    "print('Done!')"
   ]
  },
  {
   "cell_type": "code",
   "execution_count": null,
   "id": "a77f27a3",
   "metadata": {},
   "outputs": [],
   "source": [
    "# Check to see if the multi.h5 file exists\n",
    "from os.path import exists\n",
    "exists('multi.h5')"
   ]
  },
  {
   "cell_type": "markdown",
   "id": "b9294d90",
   "metadata": {},
   "source": [
    "### Using <code>w_crawl</code> to calculate post-simulation auxiliary data"
   ]
  },
  {
   "cell_type": "markdown",
   "id": "fc2438e9",
   "metadata": {},
   "source": [
    "The following sample code runs <code>w_crawl</code> to calculate additional observables post-simulation."
   ]
  },
  {
   "cell_type": "code",
   "execution_count": null,
   "id": "609387ec",
   "metadata": {
    "scrolled": true
   },
   "outputs": [],
   "source": [
    "import os\n",
    "os.chdir('w_crawl')\n",
    "# Run w_crawl in the commandline\n",
    "!{'./run_w_crawl.sh'}\n",
    "os.chdir('../')\n",
    "print('Done!')"
   ]
  },
  {
   "cell_type": "code",
   "execution_count": null,
   "id": "c9273ac4",
   "metadata": {},
   "outputs": [],
   "source": [
    "# Check to see if the example.h5 file exists\n",
    "from os.path import exists\n",
    "exists('./w_crawl/crawl.h5')"
   ]
  },
  {
   "cell_type": "markdown",
   "id": "36591d9c",
   "metadata": {},
   "source": [
    "## Cleaning Up"
   ]
  },
  {
   "cell_type": "code",
   "execution_count": null,
   "id": "0f12e4c1",
   "metadata": {},
   "outputs": [],
   "source": [
    "# Run the following bash script to revert your tutorial folder to pristine condition.\n",
    "!{'./1.clean.sh'}"
   ]
  }
 ],
 "metadata": {
  "kernelspec": {
   "display_name": "Python 3 (ipykernel)",
   "language": "python",
   "name": "python3"
  },
  "language_info": {
   "codemirror_mode": {
    "name": "ipython",
    "version": 3
   },
   "file_extension": ".py",
   "mimetype": "text/x-python",
   "name": "python",
   "nbconvert_exporter": "python",
   "pygments_lexer": "ipython3",
   "version": "3.9.12"
  }
 },
 "nbformat": 4,
 "nbformat_minor": 5
}
